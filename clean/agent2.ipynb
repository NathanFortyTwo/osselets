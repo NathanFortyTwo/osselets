{
 "cells": [
  {
   "cell_type": "code",
   "execution_count": null,
   "metadata": {},
   "outputs": [],
   "source": [
    "from stable_baselines3.common.vec_env import DummyVecEnv\n",
    "from stable_baselines3 import PPO\n",
    "from cleangym import OsseletsEnv\n",
    "import gymnasium as gym\n",
    "\n",
    "env = OsseletsEnv()\n",
    "env = DummyVecEnv([lambda: env])\n",
    "# Create the agent\n",
    "agent = PPO(\"MlpPolicy\", env, verbose=1)\n",
    "agent.learn(total_timesteps=100000)\n"
   ]
  }
 ],
 "metadata": {
  "language_info": {
   "name": "python"
  },
  "orig_nbformat": 4
 },
 "nbformat": 4,
 "nbformat_minor": 2
}
